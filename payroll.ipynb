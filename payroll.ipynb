{
 "cells": [
  {
   "cell_type": "code",
   "execution_count": null,
   "metadata": {},
   "outputs": [],
   "source": [
    "# pip install -U polars \n",
    "# pip install pandas"
   ]
  },
  {
   "cell_type": "code",
   "execution_count": 2,
   "metadata": {},
   "outputs": [
    {
     "data": {
      "text/html": [
       "<div><style>\n",
       ".dataframe > thead > tr > th,\n",
       ".dataframe > tbody > tr > td {\n",
       "  text-align: right;\n",
       "  white-space: pre-wrap;\n",
       "}\n",
       "</style>\n",
       "<small>shape: (253, 7)</small><table border=\"1\" class=\"dataframe\"><thead><tr><th>DATE</th><th>EMPLOYEE_ID</th><th>MON</th><th>TUE</th><th>WED</th><th>THU</th><th>FRI</th></tr><tr><td>datetime[ms]</td><td>i64</td><td>i64</td><td>i64</td><td>i64</td><td>i64</td><td>i64</td></tr></thead><tbody><tr><td>2023-01-01 00:00:00</td><td>1000</td><td>6</td><td>6</td><td>6</td><td>6</td><td>6</td></tr><tr><td>2023-01-02 00:00:00</td><td>1000</td><td>6</td><td>6</td><td>6</td><td>6</td><td>6</td></tr><tr><td>2023-01-03 00:00:00</td><td>1000</td><td>6</td><td>6</td><td>6</td><td>6</td><td>6</td></tr><tr><td>2023-01-04 00:00:00</td><td>1000</td><td>6</td><td>6</td><td>6</td><td>6</td><td>6</td></tr><tr><td>2023-01-05 00:00:00</td><td>1000</td><td>6</td><td>6</td><td>6</td><td>6</td><td>6</td></tr><tr><td>2023-01-06 00:00:00</td><td>1000</td><td>6</td><td>6</td><td>6</td><td>6</td><td>6</td></tr><tr><td>2023-01-07 00:00:00</td><td>1000</td><td>6</td><td>6</td><td>6</td><td>6</td><td>6</td></tr><tr><td>2023-01-08 00:00:00</td><td>1000</td><td>6</td><td>6</td><td>6</td><td>6</td><td>6</td></tr><tr><td>2023-01-09 00:00:00</td><td>1000</td><td>6</td><td>6</td><td>6</td><td>6</td><td>6</td></tr><tr><td>2023-01-10 00:00:00</td><td>1000</td><td>6</td><td>6</td><td>6</td><td>6</td><td>6</td></tr><tr><td>2023-01-11 00:00:00</td><td>1000</td><td>6</td><td>6</td><td>6</td><td>6</td><td>6</td></tr><tr><td>2023-01-12 00:00:00</td><td>1000</td><td>6</td><td>6</td><td>6</td><td>6</td><td>6</td></tr><tr><td>&hellip;</td><td>&hellip;</td><td>&hellip;</td><td>&hellip;</td><td>&hellip;</td><td>&hellip;</td><td>&hellip;</td></tr><tr><td>2023-08-30 00:00:00</td><td>1000</td><td>6</td><td>6</td><td>6</td><td>6</td><td>6</td></tr><tr><td>2023-08-31 00:00:00</td><td>1000</td><td>6</td><td>6</td><td>6</td><td>6</td><td>6</td></tr><tr><td>2023-09-01 00:00:00</td><td>1000</td><td>6</td><td>6</td><td>6</td><td>6</td><td>6</td></tr><tr><td>2023-09-02 00:00:00</td><td>1000</td><td>6</td><td>6</td><td>6</td><td>6</td><td>6</td></tr><tr><td>2023-09-03 00:00:00</td><td>1000</td><td>6</td><td>6</td><td>6</td><td>6</td><td>6</td></tr><tr><td>2023-09-04 00:00:00</td><td>1000</td><td>6</td><td>6</td><td>6</td><td>6</td><td>6</td></tr><tr><td>2023-09-05 00:00:00</td><td>1000</td><td>6</td><td>6</td><td>6</td><td>6</td><td>6</td></tr><tr><td>2023-09-06 00:00:00</td><td>1000</td><td>6</td><td>6</td><td>6</td><td>6</td><td>6</td></tr><tr><td>2023-09-07 00:00:00</td><td>1000</td><td>6</td><td>6</td><td>6</td><td>6</td><td>6</td></tr><tr><td>2023-09-08 00:00:00</td><td>1000</td><td>6</td><td>6</td><td>6</td><td>6</td><td>6</td></tr><tr><td>2023-09-09 00:00:00</td><td>1000</td><td>6</td><td>6</td><td>6</td><td>6</td><td>6</td></tr><tr><td>2023-09-10 00:00:00</td><td>1000</td><td>6</td><td>6</td><td>6</td><td>6</td><td>6</td></tr></tbody></table></div>"
      ],
      "text/plain": [
       "shape: (253, 7)\n",
       "┌─────────────────────┬─────────────┬─────┬─────┬─────┬─────┬─────┐\n",
       "│ DATE                ┆ EMPLOYEE_ID ┆ MON ┆ TUE ┆ WED ┆ THU ┆ FRI │\n",
       "│ ---                 ┆ ---         ┆ --- ┆ --- ┆ --- ┆ --- ┆ --- │\n",
       "│ datetime[ms]        ┆ i64         ┆ i64 ┆ i64 ┆ i64 ┆ i64 ┆ i64 │\n",
       "╞═════════════════════╪═════════════╪═════╪═════╪═════╪═════╪═════╡\n",
       "│ 2023-01-01 00:00:00 ┆ 1000        ┆ 6   ┆ 6   ┆ 6   ┆ 6   ┆ 6   │\n",
       "│ 2023-01-02 00:00:00 ┆ 1000        ┆ 6   ┆ 6   ┆ 6   ┆ 6   ┆ 6   │\n",
       "│ 2023-01-03 00:00:00 ┆ 1000        ┆ 6   ┆ 6   ┆ 6   ┆ 6   ┆ 6   │\n",
       "│ 2023-01-04 00:00:00 ┆ 1000        ┆ 6   ┆ 6   ┆ 6   ┆ 6   ┆ 6   │\n",
       "│ …                   ┆ …           ┆ …   ┆ …   ┆ …   ┆ …   ┆ …   │\n",
       "│ 2023-09-07 00:00:00 ┆ 1000        ┆ 6   ┆ 6   ┆ 6   ┆ 6   ┆ 6   │\n",
       "│ 2023-09-08 00:00:00 ┆ 1000        ┆ 6   ┆ 6   ┆ 6   ┆ 6   ┆ 6   │\n",
       "│ 2023-09-09 00:00:00 ┆ 1000        ┆ 6   ┆ 6   ┆ 6   ┆ 6   ┆ 6   │\n",
       "│ 2023-09-10 00:00:00 ┆ 1000        ┆ 6   ┆ 6   ┆ 6   ┆ 6   ┆ 6   │\n",
       "└─────────────────────┴─────────────┴─────┴─────┴─────┴─────┴─────┘"
      ]
     },
     "execution_count": 2,
     "metadata": {},
     "output_type": "execute_result"
    }
   ],
   "source": [
    "from datetime import datetime, timedelta\n",
    "import polars as pl\n",
    "\n",
    "\n",
    "df_overtime = pl.DataFrame({\n",
    "    'DATE': pl.date_range(datetime(2023, 1, 1), datetime(2023, 9, 10), timedelta(days=1), time_unit=\"ms\", eager=True),\n",
    "    \"EMPLOYEE_ID\": 1000,\n",
    "    \"MON\" : 6,\n",
    "    \"TUE\" : 6,\n",
    "    \"WED\" : 6,\n",
    "    \"THU\" : 6,\n",
    "    \"FRI\" : 6\n",
    "})\n",
    "df_overtime"
   ]
  },
  {
   "cell_type": "code",
   "execution_count": 7,
   "metadata": {},
   "outputs": [
    {
     "data": {
      "text/plain": [
       "(632753, 7)"
      ]
     },
     "execution_count": 7,
     "metadata": {},
     "output_type": "execute_result"
    }
   ],
   "source": [
    "for i in range(1001,1501,1):\n",
    "    overtime_temp = pl.DataFrame({\n",
    "    'DATE': pl.date_range(datetime(2023, 1, 1), datetime(2023, 9, 10), timedelta(days=1), time_unit=\"ms\", eager=True),\n",
    "    \"EMPLOYEE_ID\": i,\n",
    "    \"MON\" : 6,\n",
    "    \"TUE\" : 6,\n",
    "    \"WED\" : 6,\n",
    "    \"THU\" : 6,\n",
    "    \"FRI\" : 6\n",
    "    })\n",
    "    df_overtime = pl.concat(\n",
    "    [\n",
    "        df_overtime,\n",
    "        overtime_temp,\n",
    "    ],\n",
    "    how=\"vertical\",\n",
    "    )\n",
    "\n",
    "\n",
    "df_overtime.shape"
   ]
  },
  {
   "cell_type": "code",
   "execution_count": 10,
   "metadata": {},
   "outputs": [
    {
     "data": {
      "text/html": [
       "<div><style>\n",
       ".dataframe > thead > tr > th,\n",
       ".dataframe > tbody > tr > td {\n",
       "  text-align: right;\n",
       "  white-space: pre-wrap;\n",
       "}\n",
       "</style>\n",
       "<small>shape: (3, 7)</small><table border=\"1\" class=\"dataframe\"><thead><tr><th>describe</th><th>MON</th><th>TUE</th><th>WED</th><th>THU</th><th>FRI</th><th>total</th></tr><tr><td>str</td><td>f64</td><td>f64</td><td>f64</td><td>f64</td><td>f64</td><td>f64</td></tr></thead><tbody><tr><td>&quot;mean&quot;</td><td>6.0</td><td>6.0</td><td>6.0</td><td>6.0</td><td>6.0</td><td>30.0</td></tr><tr><td>&quot;min&quot;</td><td>6.0</td><td>6.0</td><td>6.0</td><td>6.0</td><td>6.0</td><td>30.0</td></tr><tr><td>&quot;max&quot;</td><td>6.0</td><td>6.0</td><td>6.0</td><td>6.0</td><td>6.0</td><td>30.0</td></tr></tbody></table></div>"
      ],
      "text/plain": [
       "shape: (3, 7)\n",
       "┌──────────┬─────┬─────┬─────┬─────┬─────┬───────┐\n",
       "│ describe ┆ MON ┆ TUE ┆ WED ┆ THU ┆ FRI ┆ total │\n",
       "│ ---      ┆ --- ┆ --- ┆ --- ┆ --- ┆ --- ┆ ---   │\n",
       "│ str      ┆ f64 ┆ f64 ┆ f64 ┆ f64 ┆ f64 ┆ f64   │\n",
       "╞══════════╪═════╪═════╪═════╪═════╪═════╪═══════╡\n",
       "│ mean     ┆ 6.0 ┆ 6.0 ┆ 6.0 ┆ 6.0 ┆ 6.0 ┆ 30.0  │\n",
       "│ min      ┆ 6.0 ┆ 6.0 ┆ 6.0 ┆ 6.0 ┆ 6.0 ┆ 30.0  │\n",
       "│ max      ┆ 6.0 ┆ 6.0 ┆ 6.0 ┆ 6.0 ┆ 6.0 ┆ 30.0  │\n",
       "└──────────┴─────┴─────┴─────┴─────┴─────┴───────┘"
      ]
     },
     "execution_count": 10,
     "metadata": {},
     "output_type": "execute_result"
    }
   ],
   "source": [
    "## collect standard stats from all dataset\n",
    "\n",
    "# df_overtime.describe()\n",
    "\n",
    "dayCols = [\"MON\",\"TUE\",\"WED\",\"THU\",\"FRI\"]\n",
    "## average, min, max and total hours per week in dataset\n",
    "df_overtimeStats = df_overtime.describe().select(\n",
    "        pl.col(\"*\").exclude(\n",
    "            \"DATE\",\"EMPLOYEE_ID\")).filter(\n",
    "                (pl.col(\"describe\") == \"mean\") \n",
    "                | (pl.col(\"describe\") == \"max\") \n",
    "                | (pl.col(\"describe\") == \"min\")\n",
    "        ).select([\n",
    "        pl.col(\"*\"),\n",
    "        pl.sum_horizontal(dayCols).alias('total')\n",
    "    ])\n",
    "# df_overtimeStats.item(0,6)\n",
    "df_overtimeStats.head()"
   ]
  },
  {
   "cell_type": "code",
   "execution_count": null,
   "metadata": {},
   "outputs": [],
   "source": [
    "# getting latest stats by employee\n",
    "single_employee_stats = df_overtime.filter((pl.col(\"EMPLOYEE_ID\") == 1001) & (pl.col(\"DATE\") == datetime(2023, 9, 10)))\n",
    "single_employee_stats"
   ]
  },
  {
   "cell_type": "code",
   "execution_count": 13,
   "metadata": {},
   "outputs": [
    {
     "data": {
      "text/plain": [
       "(633753, 7)"
      ]
     },
     "execution_count": 13,
     "metadata": {},
     "output_type": "execute_result"
    }
   ],
   "source": [
    "# let's assume, today's overtime sheet is submitted by all employees\n",
    "# and some of the employee accidentally booked 8 hours in a day\n",
    "\n",
    "for i in range(1001,1501,1):\n",
    "    overtime_temp = pl.DataFrame({\n",
    "    'DATE': pl.date_range(datetime(2023, 9, 11), datetime(2023, 9, 12), timedelta(days=1), time_unit=\"ms\", eager=True),\n",
    "    \"EMPLOYEE_ID\": i,\n",
    "    \"MON\" : 8,\n",
    "    \"TUE\" : 6,\n",
    "    \"WED\" : 6,\n",
    "    \"THU\" : 6,\n",
    "    \"FRI\" : 6\n",
    "    })\n",
    "    df_overtime = pl.concat(\n",
    "    [\n",
    "        df_overtime,\n",
    "        overtime_temp,\n",
    "    ],\n",
    "    how=\"vertical\",\n",
    "    )\n",
    "\n",
    "df_overtime.shape"
   ]
  },
  {
   "cell_type": "code",
   "execution_count": 14,
   "metadata": {},
   "outputs": [
    {
     "data": {
      "text/html": [
       "<div><style>\n",
       ".dataframe > thead > tr > th,\n",
       ".dataframe > tbody > tr > td {\n",
       "  text-align: right;\n",
       "  white-space: pre-wrap;\n",
       "}\n",
       "</style>\n",
       "<small>shape: (1, 7)</small><table border=\"1\" class=\"dataframe\"><thead><tr><th>DATE</th><th>EMPLOYEE_ID</th><th>MON</th><th>TUE</th><th>WED</th><th>THU</th><th>FRI</th></tr><tr><td>datetime[ms]</td><td>i64</td><td>i64</td><td>i64</td><td>i64</td><td>i64</td><td>i64</td></tr></thead><tbody><tr><td>2023-09-11 00:00:00</td><td>1001</td><td>8</td><td>6</td><td>6</td><td>6</td><td>6</td></tr></tbody></table></div>"
      ],
      "text/plain": [
       "shape: (1, 7)\n",
       "┌─────────────────────┬─────────────┬─────┬─────┬─────┬─────┬─────┐\n",
       "│ DATE                ┆ EMPLOYEE_ID ┆ MON ┆ TUE ┆ WED ┆ THU ┆ FRI │\n",
       "│ ---                 ┆ ---         ┆ --- ┆ --- ┆ --- ┆ --- ┆ --- │\n",
       "│ datetime[ms]        ┆ i64         ┆ i64 ┆ i64 ┆ i64 ┆ i64 ┆ i64 │\n",
       "╞═════════════════════╪═════════════╪═════╪═════╪═════╪═════╪═════╡\n",
       "│ 2023-09-11 00:00:00 ┆ 1001        ┆ 8   ┆ 6   ┆ 6   ┆ 6   ┆ 6   │\n",
       "└─────────────────────┴─────────────┴─────┴─────┴─────┴─────┴─────┘"
      ]
     },
     "execution_count": 14,
     "metadata": {},
     "output_type": "execute_result"
    }
   ],
   "source": [
    "# getting latest stats by employee\n",
    "out = df_overtime.filter((pl.col(\"EMPLOYEE_ID\") == 1001) & (pl.col(\"DATE\") == datetime(2023, 9, 11)))\n",
    "out"
   ]
  },
  {
   "cell_type": "code",
   "execution_count": 15,
   "metadata": {},
   "outputs": [],
   "source": [
    "from decouple import config\n",
    "import together\n",
    "from langchain import PromptTemplate, LLMChain\n",
    "from typing import Any, Dict, List, Mapping, Optional\n",
    "#pydantic model version>2 will not work with langchain. you should install a model version less than 2\n",
    "from pydantic import Extra, Field, root_validator\n",
    "\n",
    "from langchain.callbacks.manager import CallbackManagerForLLMRun\n",
    "from langchain.llms.base import LLM\n",
    "from langchain.llms.utils import enforce_stop_tokens\n",
    "from langchain.utils import get_from_dict_or_env\n",
    "import re\n",
    "\n",
    "together.api_key = config(\"TOGETHER_API_KEY\")\n",
    "\n",
    "together.Models.start(\"togethercomputer/llama-2-70b-chat\")\n",
    "\n",
    "class TogetherLLM(LLM):\n",
    "    \"\"\"Together large language models.\"\"\"\n",
    "\n",
    "    model = \"togethercomputer/llama-2-70b-chat\"\n",
    "    \"\"\"model endpoint to use\"\"\"\n",
    "\n",
    "    together_api_key = config(\"TOGETHER_API_KEY\")\n",
    "    \"\"\"Together API key\"\"\"\n",
    "\n",
    "    temperature = 0.7\n",
    "    \"\"\"What sampling temperature to use.\"\"\"\n",
    "\n",
    "    max_tokens = 1024\n",
    "    \"\"\"The maximum number of tokens to generate in the completion.\"\"\"\n",
    "\n",
    "    class Config:\n",
    "        extra = Extra.forbid\n",
    "\n",
    "    @root_validator()\n",
    "    def validate_environment(cls, values: Dict) -> Dict:\n",
    "        \"\"\"Validate that the API key is set.\"\"\"\n",
    "        api_key = get_from_dict_or_env(\n",
    "            values, \"together_api_key\", \"TOGETHER_API_KEY\"\n",
    "        )\n",
    "        values[\"together_api_key\"] = api_key\n",
    "        return values\n",
    "\n",
    "    @property\n",
    "    def _llm_type(self):\n",
    "        \"\"\"Return type of LLM.\"\"\"\n",
    "        return \"together\"\n",
    "\n",
    "    def _call(\n",
    "        self,\n",
    "        prompt,\n",
    "        **kwargs: Any,\n",
    "    ):\n",
    "        \"\"\"Call to Together endpoint.\"\"\"\n",
    "        together.api_key = self.together_api_key\n",
    "        output = together.Complete.create(prompt,\n",
    "                                          model=self.model,\n",
    "                                          max_tokens=self.max_tokens,\n",
    "                                          temperature=self.temperature,\n",
    "                                          )\n",
    "        text = output['output']['choices'][0]['text']\n",
    "        # Use regex substitution to remove newlines\n",
    "        #cleaned_text = re.sub(r\"\\n\", \"\", text)\n",
    "        return text\n",
    "\n",
    "tog_llm = TogetherLLM(\n",
    "    model= \"togethercomputer/llama-2-70b-chat\",\n",
    "    temperature=0.1,\n",
    "    max_tokens=1024)\n",
    "\n",
    "B_INST, E_INST = \"[INST]\", \"[/INST]\"\n",
    "B_SYS, E_SYS = \"<<SYS>>\\n\", \"\\n<</SYS>>\\n\\n\"\n",
    "DEFAULT_SYSTEM_PROMPT = \"\"\"\n",
    "You are a helpful, respectful and honest assistant. Always answer as helpfully as possible, while being safe. Your answers should not include any harmful, unethical, racist, sexist, toxic, dangerous, or illegal content. Please ensure that your responses are socially unbiased and positive in nature.\n",
    "\n",
    "If a question does not make any sense, or is not factually coherent, explain why instead of answering something not correct. If you don't know the answer to a question, please don't share false information.\"\"\"\n",
    "\n",
    "\n",
    "def get_prompt(instruction, new_system_prompt=DEFAULT_SYSTEM_PROMPT ):\n",
    "    SYSTEM_PROMPT = B_SYS + new_system_prompt + E_SYS\n",
    "    prompt_template =  B_INST + SYSTEM_PROMPT + instruction + E_INST\n",
    "    return prompt_template"
   ]
  },
  {
   "cell_type": "code",
   "execution_count": 21,
   "metadata": {},
   "outputs": [
    {
     "data": {
      "text/html": [
       "<div><style>\n",
       ".dataframe > thead > tr > th,\n",
       ".dataframe > tbody > tr > td {\n",
       "  text-align: right;\n",
       "  white-space: pre-wrap;\n",
       "}\n",
       "</style>\n",
       "<small>shape: (1, 7)</small><table border=\"1\" class=\"dataframe\"><thead><tr><th>DATE</th><th>EMPLOYEE_ID</th><th>MON</th><th>TUE</th><th>WED</th><th>THU</th><th>FRI</th></tr><tr><td>datetime[ms]</td><td>i64</td><td>i64</td><td>i64</td><td>i64</td><td>i64</td><td>i64</td></tr></thead><tbody><tr><td>2023-09-11 00:00:00</td><td>1001</td><td>8</td><td>6</td><td>6</td><td>6</td><td>6</td></tr></tbody></table></div>"
      ],
      "text/plain": [
       "shape: (1, 7)\n",
       "┌─────────────────────┬─────────────┬─────┬─────┬─────┬─────┬─────┐\n",
       "│ DATE                ┆ EMPLOYEE_ID ┆ MON ┆ TUE ┆ WED ┆ THU ┆ FRI │\n",
       "│ ---                 ┆ ---         ┆ --- ┆ --- ┆ --- ┆ --- ┆ --- │\n",
       "│ datetime[ms]        ┆ i64         ┆ i64 ┆ i64 ┆ i64 ┆ i64 ┆ i64 │\n",
       "╞═════════════════════╪═════════════╪═════╪═════╪═════╪═════╪═════╡\n",
       "│ 2023-09-11 00:00:00 ┆ 1001        ┆ 8   ┆ 6   ┆ 6   ┆ 6   ┆ 6   │\n",
       "└─────────────────────┴─────────────┴─────┴─────┴─────┴─────┴─────┘"
      ]
     },
     "execution_count": 21,
     "metadata": {},
     "output_type": "execute_result"
    }
   ],
   "source": [
    "out = df_overtime.filter((pl.col(\"EMPLOYEE_ID\") == 1001) & (pl.col(\"DATE\") == datetime(2023, 9, 11)))\n",
    "\n",
    "\n",
    "out.head()"
   ]
  },
  {
   "cell_type": "code",
   "execution_count": 22,
   "metadata": {},
   "outputs": [],
   "source": [
    "text = \"Is there any anomaly in the data. Average employee overtime hours are \" + str(df_overtimeStats.item(0,6)) + \" hours per week. This week, I charged total \" + str(out.item(0,2) + out.item(0,3) + out.item(0,4) + out.item(0,5) + out.item(0,6)) + \" overtime hours. I overtimed \" +str(out.item(0,2)) + \",\"+str(out.item(0,3)) + \",\"+str(out.item(0,4)) + \",\"+str(out.item(0,5)) + \",\"+str(out.item(0,6)) + \", hours per day from Monday to Friday.\""
   ]
  },
  {
   "cell_type": "code",
   "execution_count": 24,
   "metadata": {},
   "outputs": [
    {
     "name": "stdout",
     "output_type": "stream",
     "text": [
      "[INST]<<SYS>>\n",
      "You are an advanced assistant who is very good at logical thinking and mathematical explanation. \n",
      "<</SYS>>\n",
      "\n",
      "Answer the question logically that is asked in the text : \n",
      "\n",
      " {text}[/INST]\n",
      " There appears to be an anomaly in the data.\n",
      "\n",
      "The average employee overtime hours are 30.0 hours per week, but this week, 32 overtime hours were charged. This is an increase of 2 hours from the average, which could be considered an anomaly.\n",
      "\n",
      "Furthermore, the overtime hours per day from Monday to Friday are not consistent. The hours per day are 8, 6, 6, 6, 6, which adds up to 32 hours, exceeding the average weekly overtime hours. It's unlikely that an employee would work the same number of overtime hours every day, which could indicate an error in recording or reporting the data.\n",
      "\n",
      "Therefore, it's reasonable to conclude that there is an anomaly in the data, and further investigation is necessary to determine the cause and correct any errors.\n"
     ]
    }
   ],
   "source": [
    "system_prompt = \"You are an advanced assistant who is very good at logical thinking and mathematical explanation. \"\n",
    "instruction = \"Answer the question logically that is asked in the text : \\n\\n {text}\"\n",
    "template = get_prompt(instruction, system_prompt)\n",
    "print(template)\n",
    "\n",
    "prompt = PromptTemplate(template=template, input_variables=[\"text\"])\n",
    "\n",
    "llm_chain = LLMChain(prompt= prompt, llm = tog_llm )\n",
    "\n",
    "output = llm_chain.run(text)\n",
    "\n",
    "print(output)"
   ]
  },
  {
   "cell_type": "code",
   "execution_count": null,
   "metadata": {},
   "outputs": [],
   "source": []
  }
 ],
 "metadata": {
  "kernelspec": {
   "display_name": "llama_venv",
   "language": "python",
   "name": "python3"
  },
  "language_info": {
   "codemirror_mode": {
    "name": "ipython",
    "version": 3
   },
   "file_extension": ".py",
   "mimetype": "text/x-python",
   "name": "python",
   "nbconvert_exporter": "python",
   "pygments_lexer": "ipython3",
   "version": "3.11.3"
  },
  "orig_nbformat": 4
 },
 "nbformat": 4,
 "nbformat_minor": 2
}
